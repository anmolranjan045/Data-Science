{
 "cells": [
  {
   "cell_type": "markdown",
   "id": "7409e2ce",
   "metadata": {},
   "source": [
    "# Record Matching"
   ]
  },
  {
   "cell_type": "code",
   "execution_count": 1,
   "id": "e104af93",
   "metadata": {},
   "outputs": [],
   "source": [
    "# importing the pandas library \n",
    "import pandas as pd"
   ]
  },
  {
   "cell_type": "code",
   "execution_count": 2,
   "id": "3275d120",
   "metadata": {},
   "outputs": [],
   "source": [
    "# getting the local file address\n",
    "filePath = 'D:/Thapar/Placement/Organizations/NeenOpal/Records Matching Task.xlsx'\n",
    "\n",
    "# storing the two sheets of data in different variables\n",
    "data1 = pd.read_excel(filePath, sheet_name=\"data1\")\n",
    "data2 = pd.read_excel(filePath, sheet_name=\"data2\")"
   ]
  },
  {
   "cell_type": "code",
   "execution_count": 3,
   "id": "7417c559",
   "metadata": {},
   "outputs": [
    {
     "data": {
      "text/html": [
       "<div>\n",
       "<style scoped>\n",
       "    .dataframe tbody tr th:only-of-type {\n",
       "        vertical-align: middle;\n",
       "    }\n",
       "\n",
       "    .dataframe tbody tr th {\n",
       "        vertical-align: top;\n",
       "    }\n",
       "\n",
       "    .dataframe thead th {\n",
       "        text-align: right;\n",
       "    }\n",
       "</style>\n",
       "<table border=\"1\" class=\"dataframe\">\n",
       "  <thead>\n",
       "    <tr style=\"text-align: right;\">\n",
       "      <th></th>\n",
       "      <th>Order ID</th>\n",
       "      <th>Product ID</th>\n",
       "      <th>Qty</th>\n",
       "    </tr>\n",
       "  </thead>\n",
       "  <tbody>\n",
       "    <tr>\n",
       "      <th>0</th>\n",
       "      <td>CA-2014-100006</td>\n",
       "      <td>TEC-PH-10002075</td>\n",
       "      <td>3</td>\n",
       "    </tr>\n",
       "    <tr>\n",
       "      <th>1</th>\n",
       "      <td>CA-2014-100090</td>\n",
       "      <td>FUR-TA-10003715</td>\n",
       "      <td>3</td>\n",
       "    </tr>\n",
       "    <tr>\n",
       "      <th>2</th>\n",
       "      <td>CA-2014-100090</td>\n",
       "      <td>OFF-BI-10001597</td>\n",
       "      <td>6</td>\n",
       "    </tr>\n",
       "    <tr>\n",
       "      <th>3</th>\n",
       "      <td>CA-2014-100293</td>\n",
       "      <td>OFF-PA-10000176</td>\n",
       "      <td>6</td>\n",
       "    </tr>\n",
       "    <tr>\n",
       "      <th>4</th>\n",
       "      <td>CA-2014-100328</td>\n",
       "      <td>OFF-BI-10000343</td>\n",
       "      <td>1</td>\n",
       "    </tr>\n",
       "  </tbody>\n",
       "</table>\n",
       "</div>"
      ],
      "text/plain": [
       "         Order ID       Product ID  Qty\n",
       "0  CA-2014-100006  TEC-PH-10002075    3\n",
       "1  CA-2014-100090  FUR-TA-10003715    3\n",
       "2  CA-2014-100090  OFF-BI-10001597    6\n",
       "3  CA-2014-100293  OFF-PA-10000176    6\n",
       "4  CA-2014-100328  OFF-BI-10000343    1"
      ]
     },
     "execution_count": 3,
     "metadata": {},
     "output_type": "execute_result"
    }
   ],
   "source": [
    "# printing the first set of data\n",
    "data1.head()"
   ]
  },
  {
   "cell_type": "code",
   "execution_count": 4,
   "id": "029df705",
   "metadata": {},
   "outputs": [
    {
     "data": {
      "text/html": [
       "<div>\n",
       "<style scoped>\n",
       "    .dataframe tbody tr th:only-of-type {\n",
       "        vertical-align: middle;\n",
       "    }\n",
       "\n",
       "    .dataframe tbody tr th {\n",
       "        vertical-align: top;\n",
       "    }\n",
       "\n",
       "    .dataframe thead th {\n",
       "        text-align: right;\n",
       "    }\n",
       "</style>\n",
       "<table border=\"1\" class=\"dataframe\">\n",
       "  <thead>\n",
       "    <tr style=\"text-align: right;\">\n",
       "      <th></th>\n",
       "      <th>Order ID</th>\n",
       "      <th>Product ID</th>\n",
       "      <th>Qty</th>\n",
       "    </tr>\n",
       "  </thead>\n",
       "  <tbody>\n",
       "    <tr>\n",
       "      <th>0</th>\n",
       "      <td>CA-2014-100090</td>\n",
       "      <td>FUR-TA-10003715</td>\n",
       "      <td>3</td>\n",
       "    </tr>\n",
       "    <tr>\n",
       "      <th>1</th>\n",
       "      <td>CA-2014-100090</td>\n",
       "      <td>OFF-BI-10001597</td>\n",
       "      <td>6</td>\n",
       "    </tr>\n",
       "    <tr>\n",
       "      <th>2</th>\n",
       "      <td>CA-2014-100293</td>\n",
       "      <td>OFF-PA-10000176</td>\n",
       "      <td>6</td>\n",
       "    </tr>\n",
       "    <tr>\n",
       "      <th>3</th>\n",
       "      <td>CA-2014-100328</td>\n",
       "      <td>OFF-BI-10000343</td>\n",
       "      <td>1</td>\n",
       "    </tr>\n",
       "    <tr>\n",
       "      <th>4</th>\n",
       "      <td>CA-2014-100363</td>\n",
       "      <td>OFF-FA-10000611</td>\n",
       "      <td>2</td>\n",
       "    </tr>\n",
       "  </tbody>\n",
       "</table>\n",
       "</div>"
      ],
      "text/plain": [
       "         Order ID       Product ID  Qty\n",
       "0  CA-2014-100090  FUR-TA-10003715    3\n",
       "1  CA-2014-100090  OFF-BI-10001597    6\n",
       "2  CA-2014-100293  OFF-PA-10000176    6\n",
       "3  CA-2014-100328  OFF-BI-10000343    1\n",
       "4  CA-2014-100363  OFF-FA-10000611    2"
      ]
     },
     "execution_count": 4,
     "metadata": {},
     "output_type": "execute_result"
    }
   ],
   "source": [
    "# printing the second set of data\n",
    "data2.head()"
   ]
  },
  {
   "cell_type": "code",
   "execution_count": 5,
   "id": "d88a0c25",
   "metadata": {},
   "outputs": [],
   "source": [
    "# merging the columns to get another column of primary keys in each dataset\n",
    "data1['Order_Product_1'] = data1['Order ID']+data1['Product ID']\n",
    "data2['Order_Product_2'] = data2['Order ID']+data2['Product ID']"
   ]
  },
  {
   "cell_type": "code",
   "execution_count": 6,
   "id": "c57cbf7c",
   "metadata": {},
   "outputs": [
    {
     "data": {
      "text/html": [
       "<div>\n",
       "<style scoped>\n",
       "    .dataframe tbody tr th:only-of-type {\n",
       "        vertical-align: middle;\n",
       "    }\n",
       "\n",
       "    .dataframe tbody tr th {\n",
       "        vertical-align: top;\n",
       "    }\n",
       "\n",
       "    .dataframe thead th {\n",
       "        text-align: right;\n",
       "    }\n",
       "</style>\n",
       "<table border=\"1\" class=\"dataframe\">\n",
       "  <thead>\n",
       "    <tr style=\"text-align: right;\">\n",
       "      <th></th>\n",
       "      <th>Order ID</th>\n",
       "      <th>Product ID</th>\n",
       "      <th>Qty</th>\n",
       "      <th>Order_Product_1</th>\n",
       "    </tr>\n",
       "  </thead>\n",
       "  <tbody>\n",
       "    <tr>\n",
       "      <th>0</th>\n",
       "      <td>CA-2014-100006</td>\n",
       "      <td>TEC-PH-10002075</td>\n",
       "      <td>3</td>\n",
       "      <td>CA-2014-100006TEC-PH-10002075</td>\n",
       "    </tr>\n",
       "    <tr>\n",
       "      <th>1</th>\n",
       "      <td>CA-2014-100090</td>\n",
       "      <td>FUR-TA-10003715</td>\n",
       "      <td>3</td>\n",
       "      <td>CA-2014-100090FUR-TA-10003715</td>\n",
       "    </tr>\n",
       "    <tr>\n",
       "      <th>2</th>\n",
       "      <td>CA-2014-100090</td>\n",
       "      <td>OFF-BI-10001597</td>\n",
       "      <td>6</td>\n",
       "      <td>CA-2014-100090OFF-BI-10001597</td>\n",
       "    </tr>\n",
       "    <tr>\n",
       "      <th>3</th>\n",
       "      <td>CA-2014-100293</td>\n",
       "      <td>OFF-PA-10000176</td>\n",
       "      <td>6</td>\n",
       "      <td>CA-2014-100293OFF-PA-10000176</td>\n",
       "    </tr>\n",
       "    <tr>\n",
       "      <th>4</th>\n",
       "      <td>CA-2014-100328</td>\n",
       "      <td>OFF-BI-10000343</td>\n",
       "      <td>1</td>\n",
       "      <td>CA-2014-100328OFF-BI-10000343</td>\n",
       "    </tr>\n",
       "  </tbody>\n",
       "</table>\n",
       "</div>"
      ],
      "text/plain": [
       "         Order ID       Product ID  Qty                Order_Product_1\n",
       "0  CA-2014-100006  TEC-PH-10002075    3  CA-2014-100006TEC-PH-10002075\n",
       "1  CA-2014-100090  FUR-TA-10003715    3  CA-2014-100090FUR-TA-10003715\n",
       "2  CA-2014-100090  OFF-BI-10001597    6  CA-2014-100090OFF-BI-10001597\n",
       "3  CA-2014-100293  OFF-PA-10000176    6  CA-2014-100293OFF-PA-10000176\n",
       "4  CA-2014-100328  OFF-BI-10000343    1  CA-2014-100328OFF-BI-10000343"
      ]
     },
     "execution_count": 6,
     "metadata": {},
     "output_type": "execute_result"
    }
   ],
   "source": [
    "# printing the first modified set of data\n",
    "data1.head()"
   ]
  },
  {
   "cell_type": "code",
   "execution_count": 7,
   "id": "e5ffd1a9",
   "metadata": {},
   "outputs": [
    {
     "data": {
      "text/html": [
       "<div>\n",
       "<style scoped>\n",
       "    .dataframe tbody tr th:only-of-type {\n",
       "        vertical-align: middle;\n",
       "    }\n",
       "\n",
       "    .dataframe tbody tr th {\n",
       "        vertical-align: top;\n",
       "    }\n",
       "\n",
       "    .dataframe thead th {\n",
       "        text-align: right;\n",
       "    }\n",
       "</style>\n",
       "<table border=\"1\" class=\"dataframe\">\n",
       "  <thead>\n",
       "    <tr style=\"text-align: right;\">\n",
       "      <th></th>\n",
       "      <th>Order ID</th>\n",
       "      <th>Product ID</th>\n",
       "      <th>Qty</th>\n",
       "      <th>Order_Product_2</th>\n",
       "    </tr>\n",
       "  </thead>\n",
       "  <tbody>\n",
       "    <tr>\n",
       "      <th>0</th>\n",
       "      <td>CA-2014-100090</td>\n",
       "      <td>FUR-TA-10003715</td>\n",
       "      <td>3</td>\n",
       "      <td>CA-2014-100090FUR-TA-10003715</td>\n",
       "    </tr>\n",
       "    <tr>\n",
       "      <th>1</th>\n",
       "      <td>CA-2014-100090</td>\n",
       "      <td>OFF-BI-10001597</td>\n",
       "      <td>6</td>\n",
       "      <td>CA-2014-100090OFF-BI-10001597</td>\n",
       "    </tr>\n",
       "    <tr>\n",
       "      <th>2</th>\n",
       "      <td>CA-2014-100293</td>\n",
       "      <td>OFF-PA-10000176</td>\n",
       "      <td>6</td>\n",
       "      <td>CA-2014-100293OFF-PA-10000176</td>\n",
       "    </tr>\n",
       "    <tr>\n",
       "      <th>3</th>\n",
       "      <td>CA-2014-100328</td>\n",
       "      <td>OFF-BI-10000343</td>\n",
       "      <td>1</td>\n",
       "      <td>CA-2014-100328OFF-BI-10000343</td>\n",
       "    </tr>\n",
       "    <tr>\n",
       "      <th>4</th>\n",
       "      <td>CA-2014-100363</td>\n",
       "      <td>OFF-FA-10000611</td>\n",
       "      <td>2</td>\n",
       "      <td>CA-2014-100363OFF-FA-10000611</td>\n",
       "    </tr>\n",
       "  </tbody>\n",
       "</table>\n",
       "</div>"
      ],
      "text/plain": [
       "         Order ID       Product ID  Qty                Order_Product_2\n",
       "0  CA-2014-100090  FUR-TA-10003715    3  CA-2014-100090FUR-TA-10003715\n",
       "1  CA-2014-100090  OFF-BI-10001597    6  CA-2014-100090OFF-BI-10001597\n",
       "2  CA-2014-100293  OFF-PA-10000176    6  CA-2014-100293OFF-PA-10000176\n",
       "3  CA-2014-100328  OFF-BI-10000343    1  CA-2014-100328OFF-BI-10000343\n",
       "4  CA-2014-100363  OFF-FA-10000611    2  CA-2014-100363OFF-FA-10000611"
      ]
     },
     "execution_count": 7,
     "metadata": {},
     "output_type": "execute_result"
    }
   ],
   "source": [
    "# printing the second modified set of data\n",
    "data2.head()"
   ]
  },
  {
   "cell_type": "code",
   "execution_count": 8,
   "id": "d8c5ef21",
   "metadata": {},
   "outputs": [
    {
     "data": {
      "text/html": [
       "<div>\n",
       "<style scoped>\n",
       "    .dataframe tbody tr th:only-of-type {\n",
       "        vertical-align: middle;\n",
       "    }\n",
       "\n",
       "    .dataframe tbody tr th {\n",
       "        vertical-align: top;\n",
       "    }\n",
       "\n",
       "    .dataframe thead th {\n",
       "        text-align: right;\n",
       "    }\n",
       "</style>\n",
       "<table border=\"1\" class=\"dataframe\">\n",
       "  <thead>\n",
       "    <tr style=\"text-align: right;\">\n",
       "      <th></th>\n",
       "      <th>Order ID_x</th>\n",
       "      <th>Product ID_x</th>\n",
       "      <th>Qty_x</th>\n",
       "      <th>Order_Product_1</th>\n",
       "      <th>Order ID_y</th>\n",
       "      <th>Product ID_y</th>\n",
       "      <th>Qty_y</th>\n",
       "      <th>Order_Product_2</th>\n",
       "    </tr>\n",
       "  </thead>\n",
       "  <tbody>\n",
       "    <tr>\n",
       "      <th>0</th>\n",
       "      <td>CA-2014-100006</td>\n",
       "      <td>TEC-PH-10002075</td>\n",
       "      <td>3.0</td>\n",
       "      <td>CA-2014-100006TEC-PH-10002075</td>\n",
       "      <td>NaN</td>\n",
       "      <td>NaN</td>\n",
       "      <td>NaN</td>\n",
       "      <td>NaN</td>\n",
       "    </tr>\n",
       "    <tr>\n",
       "      <th>1</th>\n",
       "      <td>CA-2014-100090</td>\n",
       "      <td>FUR-TA-10003715</td>\n",
       "      <td>3.0</td>\n",
       "      <td>CA-2014-100090FUR-TA-10003715</td>\n",
       "      <td>CA-2014-100090</td>\n",
       "      <td>FUR-TA-10003715</td>\n",
       "      <td>3.0</td>\n",
       "      <td>CA-2014-100090FUR-TA-10003715</td>\n",
       "    </tr>\n",
       "    <tr>\n",
       "      <th>2</th>\n",
       "      <td>CA-2014-100090</td>\n",
       "      <td>OFF-BI-10001597</td>\n",
       "      <td>6.0</td>\n",
       "      <td>CA-2014-100090OFF-BI-10001597</td>\n",
       "      <td>CA-2014-100090</td>\n",
       "      <td>OFF-BI-10001597</td>\n",
       "      <td>6.0</td>\n",
       "      <td>CA-2014-100090OFF-BI-10001597</td>\n",
       "    </tr>\n",
       "    <tr>\n",
       "      <th>3</th>\n",
       "      <td>CA-2014-100293</td>\n",
       "      <td>OFF-PA-10000176</td>\n",
       "      <td>6.0</td>\n",
       "      <td>CA-2014-100293OFF-PA-10000176</td>\n",
       "      <td>CA-2014-100293</td>\n",
       "      <td>OFF-PA-10000176</td>\n",
       "      <td>6.0</td>\n",
       "      <td>CA-2014-100293OFF-PA-10000176</td>\n",
       "    </tr>\n",
       "    <tr>\n",
       "      <th>4</th>\n",
       "      <td>CA-2014-100328</td>\n",
       "      <td>OFF-BI-10000343</td>\n",
       "      <td>1.0</td>\n",
       "      <td>CA-2014-100328OFF-BI-10000343</td>\n",
       "      <td>CA-2014-100328</td>\n",
       "      <td>OFF-BI-10000343</td>\n",
       "      <td>1.0</td>\n",
       "      <td>CA-2014-100328OFF-BI-10000343</td>\n",
       "    </tr>\n",
       "  </tbody>\n",
       "</table>\n",
       "</div>"
      ],
      "text/plain": [
       "       Order ID_x     Product ID_x  Qty_x                Order_Product_1  \\\n",
       "0  CA-2014-100006  TEC-PH-10002075    3.0  CA-2014-100006TEC-PH-10002075   \n",
       "1  CA-2014-100090  FUR-TA-10003715    3.0  CA-2014-100090FUR-TA-10003715   \n",
       "2  CA-2014-100090  OFF-BI-10001597    6.0  CA-2014-100090OFF-BI-10001597   \n",
       "3  CA-2014-100293  OFF-PA-10000176    6.0  CA-2014-100293OFF-PA-10000176   \n",
       "4  CA-2014-100328  OFF-BI-10000343    1.0  CA-2014-100328OFF-BI-10000343   \n",
       "\n",
       "       Order ID_y     Product ID_y  Qty_y                Order_Product_2  \n",
       "0             NaN              NaN    NaN                            NaN  \n",
       "1  CA-2014-100090  FUR-TA-10003715    3.0  CA-2014-100090FUR-TA-10003715  \n",
       "2  CA-2014-100090  OFF-BI-10001597    6.0  CA-2014-100090OFF-BI-10001597  \n",
       "3  CA-2014-100293  OFF-PA-10000176    6.0  CA-2014-100293OFF-PA-10000176  \n",
       "4  CA-2014-100328  OFF-BI-10000343    1.0  CA-2014-100328OFF-BI-10000343  "
      ]
     },
     "execution_count": 8,
     "metadata": {},
     "output_type": "execute_result"
    }
   ],
   "source": [
    "# performing the merge/join operation \n",
    "data = data1.merge(data2, how='outer', left_on=['Order_Product_1'], right_on=['Order_Product_2'])\n",
    "\n",
    "#printing out the new dataset\n",
    "data.head()"
   ]
  },
  {
   "cell_type": "code",
   "execution_count": 9,
   "id": "5603e84d",
   "metadata": {},
   "outputs": [
    {
     "data": {
      "text/plain": [
       "(9478, 4)"
      ]
     },
     "execution_count": 9,
     "metadata": {},
     "output_type": "execute_result"
    }
   ],
   "source": [
    "# getting the shape of data1\n",
    "data1.shape"
   ]
  },
  {
   "cell_type": "code",
   "execution_count": 10,
   "id": "690d0496",
   "metadata": {},
   "outputs": [
    {
     "data": {
      "text/plain": [
       "(9479, 4)"
      ]
     },
     "execution_count": 10,
     "metadata": {},
     "output_type": "execute_result"
    }
   ],
   "source": [
    "# getting the shape of data2\n",
    "data2.shape"
   ]
  },
  {
   "cell_type": "markdown",
   "id": "3acb4ff2",
   "metadata": {},
   "source": [
    "# 1. How to identify the Records (Order ID + Product ID combination) present in data1 but missing in data2 (Specify the number of records missing in your answer)"
   ]
  },
  {
   "cell_type": "code",
   "execution_count": 11,
   "id": "8dabfacb",
   "metadata": {},
   "outputs": [
    {
     "data": {
      "text/html": [
       "<div>\n",
       "<style scoped>\n",
       "    .dataframe tbody tr th:only-of-type {\n",
       "        vertical-align: middle;\n",
       "    }\n",
       "\n",
       "    .dataframe tbody tr th {\n",
       "        vertical-align: top;\n",
       "    }\n",
       "\n",
       "    .dataframe thead th {\n",
       "        text-align: right;\n",
       "    }\n",
       "</style>\n",
       "<table border=\"1\" class=\"dataframe\">\n",
       "  <thead>\n",
       "    <tr style=\"text-align: right;\">\n",
       "      <th></th>\n",
       "      <th>Order ID_x</th>\n",
       "      <th>Product ID_x</th>\n",
       "      <th>Qty_x</th>\n",
       "      <th>Order_Product_1</th>\n",
       "      <th>Order ID_y</th>\n",
       "      <th>Product ID_y</th>\n",
       "      <th>Qty_y</th>\n",
       "      <th>Order_Product_2</th>\n",
       "    </tr>\n",
       "  </thead>\n",
       "  <tbody>\n",
       "    <tr>\n",
       "      <th>0</th>\n",
       "      <td>CA-2014-100006</td>\n",
       "      <td>TEC-PH-10002075</td>\n",
       "      <td>3.0</td>\n",
       "      <td>CA-2014-100006TEC-PH-10002075</td>\n",
       "      <td>NaN</td>\n",
       "      <td>NaN</td>\n",
       "      <td>NaN</td>\n",
       "      <td>NaN</td>\n",
       "    </tr>\n",
       "    <tr>\n",
       "      <th>10</th>\n",
       "      <td>CA-2014-100678</td>\n",
       "      <td>OFF-EN-10000056</td>\n",
       "      <td>3.0</td>\n",
       "      <td>CA-2014-100678OFF-EN-10000056</td>\n",
       "      <td>NaN</td>\n",
       "      <td>NaN</td>\n",
       "      <td>NaN</td>\n",
       "      <td>NaN</td>\n",
       "    </tr>\n",
       "    <tr>\n",
       "      <th>19</th>\n",
       "      <td>CA-2014-100895</td>\n",
       "      <td>OFF-AR-10004511</td>\n",
       "      <td>2.0</td>\n",
       "      <td>CA-2014-100895OFF-AR-10004511</td>\n",
       "      <td>NaN</td>\n",
       "      <td>NaN</td>\n",
       "      <td>NaN</td>\n",
       "      <td>NaN</td>\n",
       "    </tr>\n",
       "    <tr>\n",
       "      <th>35</th>\n",
       "      <td>CA-2014-101560</td>\n",
       "      <td>OFF-BI-10000309</td>\n",
       "      <td>3.0</td>\n",
       "      <td>CA-2014-101560OFF-BI-10000309</td>\n",
       "      <td>NaN</td>\n",
       "      <td>NaN</td>\n",
       "      <td>NaN</td>\n",
       "      <td>NaN</td>\n",
       "    </tr>\n",
       "    <tr>\n",
       "      <th>61</th>\n",
       "      <td>CA-2014-102673</td>\n",
       "      <td>OFF-LA-10001771</td>\n",
       "      <td>12.0</td>\n",
       "      <td>CA-2014-102673OFF-LA-10001771</td>\n",
       "      <td>NaN</td>\n",
       "      <td>NaN</td>\n",
       "      <td>NaN</td>\n",
       "      <td>NaN</td>\n",
       "    </tr>\n",
       "    <tr>\n",
       "      <th>...</th>\n",
       "      <td>...</td>\n",
       "      <td>...</td>\n",
       "      <td>...</td>\n",
       "      <td>...</td>\n",
       "      <td>...</td>\n",
       "      <td>...</td>\n",
       "      <td>...</td>\n",
       "      <td>...</td>\n",
       "    </tr>\n",
       "    <tr>\n",
       "      <th>9390</th>\n",
       "      <td>US-2017-160836</td>\n",
       "      <td>OFF-AP-10001626</td>\n",
       "      <td>2.0</td>\n",
       "      <td>US-2017-160836OFF-AP-10001626</td>\n",
       "      <td>NaN</td>\n",
       "      <td>NaN</td>\n",
       "      <td>NaN</td>\n",
       "      <td>NaN</td>\n",
       "    </tr>\n",
       "    <tr>\n",
       "      <th>9403</th>\n",
       "      <td>US-2017-162558</td>\n",
       "      <td>FUR-FU-10002364</td>\n",
       "      <td>2.0</td>\n",
       "      <td>US-2017-162558FUR-FU-10002364</td>\n",
       "      <td>NaN</td>\n",
       "      <td>NaN</td>\n",
       "      <td>NaN</td>\n",
       "      <td>NaN</td>\n",
       "    </tr>\n",
       "    <tr>\n",
       "      <th>9420</th>\n",
       "      <td>US-2017-163657</td>\n",
       "      <td>OFF-BI-10000138</td>\n",
       "      <td>5.0</td>\n",
       "      <td>US-2017-163657OFF-BI-10000138</td>\n",
       "      <td>NaN</td>\n",
       "      <td>NaN</td>\n",
       "      <td>NaN</td>\n",
       "      <td>NaN</td>\n",
       "    </tr>\n",
       "    <tr>\n",
       "      <th>9427</th>\n",
       "      <td>US-2017-164056</td>\n",
       "      <td>FUR-TA-10001307</td>\n",
       "      <td>5.0</td>\n",
       "      <td>US-2017-164056FUR-TA-10001307</td>\n",
       "      <td>NaN</td>\n",
       "      <td>NaN</td>\n",
       "      <td>NaN</td>\n",
       "      <td>NaN</td>\n",
       "    </tr>\n",
       "    <tr>\n",
       "      <th>9435</th>\n",
       "      <td>US-2017-165456</td>\n",
       "      <td>FUR-CH-10003981</td>\n",
       "      <td>6.0</td>\n",
       "      <td>US-2017-165456FUR-CH-10003981</td>\n",
       "      <td>NaN</td>\n",
       "      <td>NaN</td>\n",
       "      <td>NaN</td>\n",
       "      <td>NaN</td>\n",
       "    </tr>\n",
       "  </tbody>\n",
       "</table>\n",
       "<p>507 rows × 8 columns</p>\n",
       "</div>"
      ],
      "text/plain": [
       "          Order ID_x     Product ID_x  Qty_x                Order_Product_1  \\\n",
       "0     CA-2014-100006  TEC-PH-10002075    3.0  CA-2014-100006TEC-PH-10002075   \n",
       "10    CA-2014-100678  OFF-EN-10000056    3.0  CA-2014-100678OFF-EN-10000056   \n",
       "19    CA-2014-100895  OFF-AR-10004511    2.0  CA-2014-100895OFF-AR-10004511   \n",
       "35    CA-2014-101560  OFF-BI-10000309    3.0  CA-2014-101560OFF-BI-10000309   \n",
       "61    CA-2014-102673  OFF-LA-10001771   12.0  CA-2014-102673OFF-LA-10001771   \n",
       "...              ...              ...    ...                            ...   \n",
       "9390  US-2017-160836  OFF-AP-10001626    2.0  US-2017-160836OFF-AP-10001626   \n",
       "9403  US-2017-162558  FUR-FU-10002364    2.0  US-2017-162558FUR-FU-10002364   \n",
       "9420  US-2017-163657  OFF-BI-10000138    5.0  US-2017-163657OFF-BI-10000138   \n",
       "9427  US-2017-164056  FUR-TA-10001307    5.0  US-2017-164056FUR-TA-10001307   \n",
       "9435  US-2017-165456  FUR-CH-10003981    6.0  US-2017-165456FUR-CH-10003981   \n",
       "\n",
       "     Order ID_y Product ID_y  Qty_y Order_Product_2  \n",
       "0           NaN          NaN    NaN             NaN  \n",
       "10          NaN          NaN    NaN             NaN  \n",
       "19          NaN          NaN    NaN             NaN  \n",
       "35          NaN          NaN    NaN             NaN  \n",
       "61          NaN          NaN    NaN             NaN  \n",
       "...         ...          ...    ...             ...  \n",
       "9390        NaN          NaN    NaN             NaN  \n",
       "9403        NaN          NaN    NaN             NaN  \n",
       "9420        NaN          NaN    NaN             NaN  \n",
       "9427        NaN          NaN    NaN             NaN  \n",
       "9435        NaN          NaN    NaN             NaN  \n",
       "\n",
       "[507 rows x 8 columns]"
      ]
     },
     "execution_count": 11,
     "metadata": {},
     "output_type": "execute_result"
    }
   ],
   "source": [
    "# for finding the missing values we will check the columns where data2 is null\n",
    "task1 = data[data['Order_Product_2'].isna()]\n",
    "task1"
   ]
  },
  {
   "cell_type": "markdown",
   "id": "77316252",
   "metadata": {},
   "source": [
    "Ans: 507"
   ]
  },
  {
   "cell_type": "markdown",
   "id": "e0afea44",
   "metadata": {},
   "source": [
    "# 2. How to identify the Records (Order ID + Product ID combination) missing in data1 but present in data2 (Specify the number of records missing in your answer)"
   ]
  },
  {
   "cell_type": "code",
   "execution_count": 12,
   "id": "30fd812b",
   "metadata": {},
   "outputs": [
    {
     "data": {
      "text/html": [
       "<div>\n",
       "<style scoped>\n",
       "    .dataframe tbody tr th:only-of-type {\n",
       "        vertical-align: middle;\n",
       "    }\n",
       "\n",
       "    .dataframe tbody tr th {\n",
       "        vertical-align: top;\n",
       "    }\n",
       "\n",
       "    .dataframe thead th {\n",
       "        text-align: right;\n",
       "    }\n",
       "</style>\n",
       "<table border=\"1\" class=\"dataframe\">\n",
       "  <thead>\n",
       "    <tr style=\"text-align: right;\">\n",
       "      <th></th>\n",
       "      <th>Order ID_x</th>\n",
       "      <th>Product ID_x</th>\n",
       "      <th>Qty_x</th>\n",
       "      <th>Order_Product_1</th>\n",
       "      <th>Order ID_y</th>\n",
       "      <th>Product ID_y</th>\n",
       "      <th>Qty_y</th>\n",
       "      <th>Order_Product_2</th>\n",
       "    </tr>\n",
       "  </thead>\n",
       "  <tbody>\n",
       "    <tr>\n",
       "      <th>9478</th>\n",
       "      <td>NaN</td>\n",
       "      <td>NaN</td>\n",
       "      <td>NaN</td>\n",
       "      <td>NaN</td>\n",
       "      <td>CA-2014-100706</td>\n",
       "      <td>TEC-AC-10001314</td>\n",
       "      <td>2.0</td>\n",
       "      <td>CA-2014-100706TEC-AC-10001314</td>\n",
       "    </tr>\n",
       "    <tr>\n",
       "      <th>9479</th>\n",
       "      <td>NaN</td>\n",
       "      <td>NaN</td>\n",
       "      <td>NaN</td>\n",
       "      <td>NaN</td>\n",
       "      <td>CA-2014-100762</td>\n",
       "      <td>OFF-PA-10001815</td>\n",
       "      <td>3.0</td>\n",
       "      <td>CA-2014-100762OFF-PA-10001815</td>\n",
       "    </tr>\n",
       "    <tr>\n",
       "      <th>9480</th>\n",
       "      <td>NaN</td>\n",
       "      <td>NaN</td>\n",
       "      <td>NaN</td>\n",
       "      <td>NaN</td>\n",
       "      <td>CA-2014-101427</td>\n",
       "      <td>OFF-AR-10002257</td>\n",
       "      <td>3.0</td>\n",
       "      <td>CA-2014-101427OFF-AR-10002257</td>\n",
       "    </tr>\n",
       "    <tr>\n",
       "      <th>9481</th>\n",
       "      <td>NaN</td>\n",
       "      <td>NaN</td>\n",
       "      <td>NaN</td>\n",
       "      <td>NaN</td>\n",
       "      <td>CA-2014-102652</td>\n",
       "      <td>FUR-FU-10001918</td>\n",
       "      <td>7.0</td>\n",
       "      <td>CA-2014-102652FUR-FU-10001918</td>\n",
       "    </tr>\n",
       "    <tr>\n",
       "      <th>9482</th>\n",
       "      <td>NaN</td>\n",
       "      <td>NaN</td>\n",
       "      <td>NaN</td>\n",
       "      <td>NaN</td>\n",
       "      <td>CA-2014-102869</td>\n",
       "      <td>OFF-PA-10000788</td>\n",
       "      <td>3.0</td>\n",
       "      <td>CA-2014-102869OFF-PA-10000788</td>\n",
       "    </tr>\n",
       "    <tr>\n",
       "      <th>...</th>\n",
       "      <td>...</td>\n",
       "      <td>...</td>\n",
       "      <td>...</td>\n",
       "      <td>...</td>\n",
       "      <td>...</td>\n",
       "      <td>...</td>\n",
       "      <td>...</td>\n",
       "      <td>...</td>\n",
       "    </tr>\n",
       "    <tr>\n",
       "      <th>9981</th>\n",
       "      <td>NaN</td>\n",
       "      <td>NaN</td>\n",
       "      <td>NaN</td>\n",
       "      <td>NaN</td>\n",
       "      <td>US-2017-165344</td>\n",
       "      <td>OFF-BI-10003196</td>\n",
       "      <td>10.0</td>\n",
       "      <td>US-2017-165344OFF-BI-10003196</td>\n",
       "    </tr>\n",
       "    <tr>\n",
       "      <th>9982</th>\n",
       "      <td>NaN</td>\n",
       "      <td>NaN</td>\n",
       "      <td>NaN</td>\n",
       "      <td>NaN</td>\n",
       "      <td>US-2017-165358</td>\n",
       "      <td>TEC-CO-10001943</td>\n",
       "      <td>5.0</td>\n",
       "      <td>US-2017-165358TEC-CO-10001943</td>\n",
       "    </tr>\n",
       "    <tr>\n",
       "      <th>9983</th>\n",
       "      <td>NaN</td>\n",
       "      <td>NaN</td>\n",
       "      <td>NaN</td>\n",
       "      <td>NaN</td>\n",
       "      <td>US-2017-167920</td>\n",
       "      <td>OFF-AP-10000159</td>\n",
       "      <td>5.0</td>\n",
       "      <td>US-2017-167920OFF-AP-10000159</td>\n",
       "    </tr>\n",
       "    <tr>\n",
       "      <th>9984</th>\n",
       "      <td>NaN</td>\n",
       "      <td>NaN</td>\n",
       "      <td>NaN</td>\n",
       "      <td>NaN</td>\n",
       "      <td>US-2017-169502</td>\n",
       "      <td>OFF-AP-10001947</td>\n",
       "      <td>5.0</td>\n",
       "      <td>US-2017-169502OFF-AP-10001947</td>\n",
       "    </tr>\n",
       "    <tr>\n",
       "      <th>9985</th>\n",
       "      <td>NaN</td>\n",
       "      <td>NaN</td>\n",
       "      <td>NaN</td>\n",
       "      <td>NaN</td>\n",
       "      <td>US-2017-169551</td>\n",
       "      <td>FUR-BO-10001519</td>\n",
       "      <td>3.0</td>\n",
       "      <td>US-2017-169551FUR-BO-10001519</td>\n",
       "    </tr>\n",
       "  </tbody>\n",
       "</table>\n",
       "<p>508 rows × 8 columns</p>\n",
       "</div>"
      ],
      "text/plain": [
       "     Order ID_x Product ID_x  Qty_x Order_Product_1      Order ID_y  \\\n",
       "9478        NaN          NaN    NaN             NaN  CA-2014-100706   \n",
       "9479        NaN          NaN    NaN             NaN  CA-2014-100762   \n",
       "9480        NaN          NaN    NaN             NaN  CA-2014-101427   \n",
       "9481        NaN          NaN    NaN             NaN  CA-2014-102652   \n",
       "9482        NaN          NaN    NaN             NaN  CA-2014-102869   \n",
       "...         ...          ...    ...             ...             ...   \n",
       "9981        NaN          NaN    NaN             NaN  US-2017-165344   \n",
       "9982        NaN          NaN    NaN             NaN  US-2017-165358   \n",
       "9983        NaN          NaN    NaN             NaN  US-2017-167920   \n",
       "9984        NaN          NaN    NaN             NaN  US-2017-169502   \n",
       "9985        NaN          NaN    NaN             NaN  US-2017-169551   \n",
       "\n",
       "         Product ID_y  Qty_y                Order_Product_2  \n",
       "9478  TEC-AC-10001314    2.0  CA-2014-100706TEC-AC-10001314  \n",
       "9479  OFF-PA-10001815    3.0  CA-2014-100762OFF-PA-10001815  \n",
       "9480  OFF-AR-10002257    3.0  CA-2014-101427OFF-AR-10002257  \n",
       "9481  FUR-FU-10001918    7.0  CA-2014-102652FUR-FU-10001918  \n",
       "9482  OFF-PA-10000788    3.0  CA-2014-102869OFF-PA-10000788  \n",
       "...               ...    ...                            ...  \n",
       "9981  OFF-BI-10003196   10.0  US-2017-165344OFF-BI-10003196  \n",
       "9982  TEC-CO-10001943    5.0  US-2017-165358TEC-CO-10001943  \n",
       "9983  OFF-AP-10000159    5.0  US-2017-167920OFF-AP-10000159  \n",
       "9984  OFF-AP-10001947    5.0  US-2017-169502OFF-AP-10001947  \n",
       "9985  FUR-BO-10001519    3.0  US-2017-169551FUR-BO-10001519  \n",
       "\n",
       "[508 rows x 8 columns]"
      ]
     },
     "execution_count": 12,
     "metadata": {},
     "output_type": "execute_result"
    }
   ],
   "source": [
    "# for finding the missing values we will check the columns where data1 is null\n",
    "task2 = data[data['Order_Product_1'].isna()]\n",
    "task2"
   ]
  },
  {
   "cell_type": "markdown",
   "id": "a414b227",
   "metadata": {},
   "source": [
    "Ans: 508"
   ]
  },
  {
   "cell_type": "markdown",
   "id": "98b7a593",
   "metadata": {},
   "source": [
    "# 3. Find the Sum of the total Qty of Records missing in data1 but present in data2"
   ]
  },
  {
   "cell_type": "code",
   "execution_count": 13,
   "id": "c21721e1",
   "metadata": {},
   "outputs": [
    {
     "data": {
      "text/plain": [
       "1956.0"
      ]
     },
     "execution_count": 13,
     "metadata": {},
     "output_type": "execute_result"
    }
   ],
   "source": [
    "# using the output of task2 where we identified the Records (Order ID + Product ID combination) missing in data1 but\n",
    "# present in data2 (Specify the number of records missing in your answer)\n",
    "task3 = task2['Qty_y'].sum()\n",
    "task3"
   ]
  },
  {
   "cell_type": "markdown",
   "id": "344bbdaa",
   "metadata": {},
   "source": [
    "Ans: 1956"
   ]
  },
  {
   "cell_type": "markdown",
   "id": "46f5340a",
   "metadata": {},
   "source": [
    "# 4. Find the total number of unique records (Order ID + Product ID combination) present in the combined dataset of data1 and data2"
   ]
  },
  {
   "cell_type": "code",
   "execution_count": 14,
   "id": "01b13af0",
   "metadata": {},
   "outputs": [
    {
     "data": {
      "text/plain": [
       "9986"
      ]
     },
     "execution_count": 14,
     "metadata": {},
     "output_type": "execute_result"
    }
   ],
   "source": [
    "# the total combinations can be found through the combination found earlier and stored in data\n",
    "task4 = data.shape[0]\n",
    "task4"
   ]
  },
  {
   "cell_type": "markdown",
   "id": "d0fb704b",
   "metadata": {},
   "source": [
    "Ans: 9986"
   ]
  },
  {
   "cell_type": "markdown",
   "id": "1cf0445f",
   "metadata": {},
   "source": [
    "# Q2. Python "
   ]
  },
  {
   "cell_type": "code",
   "execution_count": 18,
   "id": "35a904d6",
   "metadata": {},
   "outputs": [
    {
     "name": "stdout",
     "output_type": "stream",
     "text": [
      "Requirement already satisfied: mysql-connector-python in c:\\users\\anmol\\anaconda3\\lib\\site-packages (8.2.0)\n",
      "Requirement already satisfied: protobuf<=4.21.12,>=4.21.1 in c:\\users\\anmol\\anaconda3\\lib\\site-packages (from mysql-connector-python) (4.21.12)\n"
     ]
    }
   ],
   "source": [
    "# installing the mysql library to link python with mysql database\n",
    "!pip install mysql-connector-python"
   ]
  },
  {
   "cell_type": "markdown",
   "id": "f6198135",
   "metadata": {},
   "source": [
    "# 1. Read the csv or excel file."
   ]
  },
  {
   "cell_type": "code",
   "execution_count": 19,
   "id": "e38b2f7c",
   "metadata": {},
   "outputs": [
    {
     "data": {
      "text/html": [
       "<div>\n",
       "<style scoped>\n",
       "    .dataframe tbody tr th:only-of-type {\n",
       "        vertical-align: middle;\n",
       "    }\n",
       "\n",
       "    .dataframe tbody tr th {\n",
       "        vertical-align: top;\n",
       "    }\n",
       "\n",
       "    .dataframe thead th {\n",
       "        text-align: right;\n",
       "    }\n",
       "</style>\n",
       "<table border=\"1\" class=\"dataframe\">\n",
       "  <thead>\n",
       "    <tr style=\"text-align: right;\">\n",
       "      <th></th>\n",
       "      <th>bike_name</th>\n",
       "      <th>price</th>\n",
       "      <th>city</th>\n",
       "      <th>kms_driven</th>\n",
       "      <th>owner</th>\n",
       "      <th>age</th>\n",
       "      <th>power</th>\n",
       "      <th>brand</th>\n",
       "    </tr>\n",
       "  </thead>\n",
       "  <tbody>\n",
       "    <tr>\n",
       "      <th>0</th>\n",
       "      <td>TVS Star City Plus Dual Tone 110cc</td>\n",
       "      <td>35000</td>\n",
       "      <td>Ahmedabad</td>\n",
       "      <td>17654</td>\n",
       "      <td>First Owner</td>\n",
       "      <td>3</td>\n",
       "      <td>110</td>\n",
       "      <td>TVS</td>\n",
       "    </tr>\n",
       "    <tr>\n",
       "      <th>1</th>\n",
       "      <td>Royal Enfield Classic 350cc</td>\n",
       "      <td>119900</td>\n",
       "      <td>Delhi</td>\n",
       "      <td>11000</td>\n",
       "      <td>First Owner</td>\n",
       "      <td>4</td>\n",
       "      <td>350</td>\n",
       "      <td>Royal Enfield</td>\n",
       "    </tr>\n",
       "    <tr>\n",
       "      <th>2</th>\n",
       "      <td>Triumph Daytona 675R</td>\n",
       "      <td>600000</td>\n",
       "      <td>Delhi</td>\n",
       "      <td>110</td>\n",
       "      <td>First Owner</td>\n",
       "      <td>8</td>\n",
       "      <td>675</td>\n",
       "      <td>Triumph</td>\n",
       "    </tr>\n",
       "    <tr>\n",
       "      <th>3</th>\n",
       "      <td>TVS Apache RTR 180cc</td>\n",
       "      <td>65000</td>\n",
       "      <td>Bangalore</td>\n",
       "      <td>16329</td>\n",
       "      <td>First Owner</td>\n",
       "      <td>4</td>\n",
       "      <td>180</td>\n",
       "      <td>TVS</td>\n",
       "    </tr>\n",
       "    <tr>\n",
       "      <th>4</th>\n",
       "      <td>Yamaha FZ S V 2.0 150cc-Ltd. Edition</td>\n",
       "      <td>80000</td>\n",
       "      <td>Bangalore</td>\n",
       "      <td>10000</td>\n",
       "      <td>First Owner</td>\n",
       "      <td>3</td>\n",
       "      <td>150</td>\n",
       "      <td>Yamaha</td>\n",
       "    </tr>\n",
       "  </tbody>\n",
       "</table>\n",
       "</div>"
      ],
      "text/plain": [
       "                              bike_name   price       city  kms_driven  \\\n",
       "0    TVS Star City Plus Dual Tone 110cc   35000  Ahmedabad       17654   \n",
       "1           Royal Enfield Classic 350cc  119900      Delhi       11000   \n",
       "2                  Triumph Daytona 675R  600000      Delhi         110   \n",
       "3                  TVS Apache RTR 180cc   65000  Bangalore       16329   \n",
       "4  Yamaha FZ S V 2.0 150cc-Ltd. Edition   80000  Bangalore       10000   \n",
       "\n",
       "         owner  age  power          brand  \n",
       "0  First Owner    3    110            TVS  \n",
       "1  First Owner    4    350  Royal Enfield  \n",
       "2  First Owner    8    675        Triumph  \n",
       "3  First Owner    4    180            TVS  \n",
       "4  First Owner    3    150         Yamaha  "
      ]
     },
     "execution_count": 19,
     "metadata": {},
     "output_type": "execute_result"
    }
   ],
   "source": [
    "# reading into the dataframe the bikes data\n",
    "dataframe = pd.read_csv('D:/Thapar/Placement/Organizations/NeenOpal/used_bikes.csv')\n",
    "\n",
    "# printing the dataset\n",
    "dataframe.head()"
   ]
  },
  {
   "cell_type": "code",
   "execution_count": 20,
   "id": "07b8bbbf",
   "metadata": {},
   "outputs": [
    {
     "data": {
      "text/plain": [
       "bike_name     object\n",
       "price          int64\n",
       "city          object\n",
       "kms_driven     int64\n",
       "owner         object\n",
       "age            int64\n",
       "power          int64\n",
       "brand         object\n",
       "dtype: object"
      ]
     },
     "execution_count": 20,
     "metadata": {},
     "output_type": "execute_result"
    }
   ],
   "source": [
    "# getting the dataframe types\n",
    "dataframe.dtypes"
   ]
  },
  {
   "cell_type": "code",
   "execution_count": 21,
   "id": "9854d87a",
   "metadata": {},
   "outputs": [
    {
     "data": {
      "text/plain": [
       "Index          128\n",
       "bike_name     1192\n",
       "price         1192\n",
       "city          1192\n",
       "kms_driven    1192\n",
       "owner         1192\n",
       "age           1192\n",
       "power         1192\n",
       "brand         1192\n",
       "dtype: int64"
      ]
     },
     "execution_count": 21,
     "metadata": {},
     "output_type": "execute_result"
    }
   ],
   "source": [
    "# finding the individual memory usage before modifying the datatypes\n",
    "dataframe.memory_usage()"
   ]
  },
  {
   "cell_type": "code",
   "execution_count": 22,
   "id": "0d7aec6a",
   "metadata": {},
   "outputs": [
    {
     "data": {
      "text/plain": [
       "9664"
      ]
     },
     "execution_count": 22,
     "metadata": {},
     "output_type": "execute_result"
    }
   ],
   "source": [
    "# checking the memory usage before the data type changes\n",
    "initialMemoryUse = dataframe.memory_usage().sum()\n",
    "initialMemoryUse"
   ]
  },
  {
   "cell_type": "markdown",
   "id": "7f92544f",
   "metadata": {},
   "source": [
    "# Change the datatypes of the column and check the memory usage before and after the change in the data types."
   ]
  },
  {
   "cell_type": "code",
   "execution_count": 23,
   "id": "599bd738",
   "metadata": {},
   "outputs": [],
   "source": [
    "# changing the data types of the float columns to int32\n",
    "float_columns = ['price', 'kms_driven', 'age', 'power']\n",
    "for column in float_columns:\n",
    "    dataframe[column] = dataframe[column].astype('int32')"
   ]
  },
  {
   "cell_type": "code",
   "execution_count": 24,
   "id": "0d8703ed",
   "metadata": {},
   "outputs": [
    {
     "data": {
      "text/plain": [
       "Index          128\n",
       "bike_name     1192\n",
       "price          596\n",
       "city          1192\n",
       "kms_driven     596\n",
       "owner         1192\n",
       "age            596\n",
       "power          596\n",
       "brand         1192\n",
       "dtype: int64"
      ]
     },
     "execution_count": 24,
     "metadata": {},
     "output_type": "execute_result"
    }
   ],
   "source": [
    "# finding the individual memory usage after modifying the datatypes\n",
    "dataframe.memory_usage()"
   ]
  },
  {
   "cell_type": "code",
   "execution_count": 25,
   "id": "84e3746c",
   "metadata": {},
   "outputs": [
    {
     "data": {
      "text/plain": [
       "7280"
      ]
     },
     "execution_count": 25,
     "metadata": {},
     "output_type": "execute_result"
    }
   ],
   "source": [
    "# checking the total memory usage before the data type changes\n",
    "finalMemoryUse = dataframe.memory_usage().sum()\n",
    "finalMemoryUse"
   ]
  },
  {
   "cell_type": "code",
   "execution_count": 26,
   "id": "14c19940",
   "metadata": {},
   "outputs": [
    {
     "name": "stdout",
     "output_type": "stream",
     "text": [
      "                              bike_name   price       city  kms_driven  \\\n",
      "0    TVS Star City Plus Dual Tone 110cc   35000  Ahmedabad       17654   \n",
      "1           Royal Enfield Classic 350cc  119900      Delhi       11000   \n",
      "2                  Triumph Daytona 675R  600000      Delhi         110   \n",
      "3                  TVS Apache RTR 180cc   65000  Bangalore       16329   \n",
      "4  Yamaha FZ S V 2.0 150cc-Ltd. Edition   80000  Bangalore       10000   \n",
      "\n",
      "         owner  age  power          brand  \n",
      "0  First Owner    3    110            TVS  \n",
      "1  First Owner    4    350  Royal Enfield  \n",
      "2  First Owner    8    675        Triumph  \n",
      "3  First Owner    4    180            TVS  \n",
      "4  First Owner    3    150         Yamaha  \n"
     ]
    }
   ],
   "source": [
    "# removing indexing from the table\n",
    "dataframe.reset_index(drop=True, inplace=True)\n",
    "print(dataframe.head())"
   ]
  },
  {
   "cell_type": "code",
   "execution_count": 27,
   "id": "c75d33a6",
   "metadata": {},
   "outputs": [],
   "source": [
    "# importing the libraries for MySQL\n",
    "import mysql.connector"
   ]
  },
  {
   "cell_type": "code",
   "execution_count": 28,
   "id": "05db988b",
   "metadata": {},
   "outputs": [],
   "source": [
    "# preparing the linkage of the database connectors with MySQL\n",
    "dataBase_host = \"localhost\"\n",
    "dataBase_user = \"root\"\n",
    "dataBase_password = \"Punam&mom2\"\n",
    "dataBase_name = \"bikes\"\n",
    "table_name = \"used_bikes\" \n",
    "\n",
    "# connecting to the MySQL database\n",
    "connection = mysql.connector.connect(host=dataBase_host, user=dataBase_user, password=dataBase_password, database=dataBase_name)\n",
    "cursor = connection.cursor()"
   ]
  },
  {
   "cell_type": "code",
   "execution_count": 29,
   "id": "f6002433",
   "metadata": {},
   "outputs": [],
   "source": [
    "# dropping the index from the exsisting table\n",
    "try:\n",
    "    drop_index_query = f\"DROP INDEX IF EXISTS idx_{table_name}_bike_name ON {table_name};\"\n",
    "    cursor.execute(drop_index_query)\n",
    "    connection.commit()\n",
    "except mysql.connector.Error as e:\n",
    "    pass"
   ]
  },
  {
   "cell_type": "code",
   "execution_count": 30,
   "id": "0fbc0902",
   "metadata": {},
   "outputs": [],
   "source": [
    "# this is not a necessary step. it is done here as initially there is not data in the table\n",
    "# defining the table creation query\n",
    "create_table_query = \"\"\"\n",
    "CREATE TABLE IF NOT EXISTS {} (\n",
    "    bike_name VARCHAR(255),\n",
    "    price INT,\n",
    "    city VARCHAR(255),\n",
    "    kms_driven INT,\n",
    "    owner VARCHAR(255),\n",
    "    age INT,\n",
    "    power INT,\n",
    "    brand VARCHAR(255)\n",
    ");\n",
    "\"\"\".format(table_name)\n",
    "\n",
    "# executing the table creation query\n",
    "cursor.execute(create_table_query)\n",
    "\n",
    "# commiting the changes to the database\n",
    "connection.commit()"
   ]
  },
  {
   "cell_type": "markdown",
   "id": "2494bda8",
   "metadata": {},
   "source": [
    "# Dump the data into the mysql database."
   ]
  },
  {
   "cell_type": "code",
   "execution_count": 31,
   "id": "5d2f6739",
   "metadata": {},
   "outputs": [],
   "source": [
    "# inserting data into the table\n",
    "for index, row in dataframe.iterrows():\n",
    "    values = tuple(row)\n",
    "    insert_query = f\"INSERT INTO {table_name} (bike_name, price, city, kms_driven, owner, age, power, brand) VALUES (%s, %s, %s, %s, %s, %s, %s, %s);\"\n",
    "    cursor.execute(insert_query, values)"
   ]
  },
  {
   "cell_type": "code",
   "execution_count": 32,
   "id": "851100bf",
   "metadata": {},
   "outputs": [],
   "source": [
    "# commiting the changes to the database\n",
    "connection.commit()"
   ]
  },
  {
   "cell_type": "markdown",
   "id": "3f093a24",
   "metadata": {},
   "source": [
    "# index the column after the data is inserted."
   ]
  },
  {
   "cell_type": "code",
   "execution_count": 33,
   "id": "ca1292af",
   "metadata": {},
   "outputs": [],
   "source": [
    "# adding a new auto-incremented primary key column 'id'\n",
    "add_id_query = \"ALTER TABLE {} ADD id INT AUTO_INCREMENT PRIMARY KEY;\".format(table_name)\n",
    "cursor.execute(add_id_query)\n",
    "connection.commit()\n",
    "\n",
    "# index the 'id' column\n",
    "index_query = f\"CREATE INDEX idx_{table_name}_id ON {table_name}(id);\"\n",
    "cursor.execute(index_query)\n",
    "connection.commit()"
   ]
  },
  {
   "cell_type": "code",
   "execution_count": 34,
   "id": "7ed297a3",
   "metadata": {},
   "outputs": [],
   "source": [
    "# commiting the changes to the database\n",
    "connection.commit()"
   ]
  },
  {
   "cell_type": "code",
   "execution_count": 35,
   "id": "4328b6c4",
   "metadata": {},
   "outputs": [
    {
     "name": "stdout",
     "output_type": "stream",
     "text": [
      "('TVS Star City Plus Dual Tone 110cc', 35000, 'Ahmedabad', 17654, 'First Owner', 3, 110, 'TVS', 1)\n",
      "('Royal Enfield Classic 350cc', 119900, 'Delhi', 11000, 'First Owner', 4, 350, 'Royal Enfield', 2)\n",
      "('Triumph Daytona 675R', 600000, 'Delhi', 110, 'First Owner', 8, 675, 'Triumph', 3)\n",
      "('TVS Apache RTR 180cc', 65000, 'Bangalore', 16329, 'First Owner', 4, 180, 'TVS', 4)\n",
      "('Yamaha FZ S V 2.0 150cc-Ltd. Edition', 80000, 'Bangalore', 10000, 'First Owner', 3, 150, 'Yamaha', 5)\n",
      "('Yamaha FZs 150cc', 53499, 'Delhi', 25000, 'First Owner', 6, 150, 'Yamaha', 6)\n",
      "('Honda CB Hornet 160R  ABS DLX', 85000, 'Delhi', 8200, 'First Owner', 3, 160, 'Honda', 7)\n",
      "('Hero Splendor Plus Self Alloy 100cc', 45000, 'Delhi', 12645, 'First Owner', 3, 100, 'Hero', 8)\n",
      "('Royal Enfield Thunderbird X 350cc', 145000, 'Bangalore', 9190, 'First Owner', 3, 350, 'Royal Enfield', 9)\n",
      "('Royal Enfield Classic Desert Storm 500cc', 88000, 'Delhi', 19000, 'Second Owner', 7, 500, 'Royal Enfield', 10)\n",
      "('Yamaha YZF-R15 2.0 150cc', 72000, 'Bangalore', 20000, 'First Owner', 7, 150, 'Yamaha', 11)\n",
      "('Yamaha FZ25 250cc', 95000, 'Bangalore', 9665, 'First Owner', 4, 250, 'Yamaha', 12)\n",
      "('Bajaj Pulsar NS200', 78000, 'Bangalore', 9900, 'First Owner', 4, 200, 'Bajaj', 13)\n",
      "('Bajaj Discover 100M', 29499, 'Delhi', 20000, 'First Owner', 8, 100, 'Bajaj', 14)\n",
      "('Bajaj Discover 125M', 29900, 'Delhi', 20000, 'First Owner', 7, 125, 'Bajaj', 15)\n",
      "('Bajaj Pulsar NS200 ABS', 90000, 'Bangalore', 11574, 'First Owner', 3, 200, 'Bajaj', 16)\n",
      "('Bajaj Pulsar RS200 ABS', 120000, 'Bangalore', 23000, 'First Owner', 3, 200, 'Bajaj', 17)\n",
      "('Suzuki Gixxer SF 150cc', 48000, 'Mumbai', 24725, 'First Owner', 5, 150, 'Suzuki', 18)\n",
      "('Benelli 302R 300CC', 240000, 'Mumbai', 15025, 'Second Owner', 3, 302, 'Benelli', 19)\n",
      "('Bajaj Discover 125M', 29900, 'Delhi', 20000, 'First Owner', 7, 125, 'Bajaj', 20)\n",
      "('Bajaj Pulsar RS200 ABS', 120000, 'Bangalore', 23000, 'First Owner', 3, 200, 'Bajaj', 21)\n",
      "('Suzuki Gixxer SF 150cc', 48000, 'Mumbai', 24725, 'First Owner', 5, 150, 'Suzuki', 22)\n",
      "('Hero Splendor iSmart Plus IBS 110cc', 46500, 'Delhi', 3500, 'First Owner', 2, 110, 'Hero', 23)\n",
      "('Royal Enfield Classic Chrome 500cc', 121700, 'Kalyan', 24520, 'First Owner', 5, 500, 'Royal Enfield', 24)\n",
      "('Yamaha FZ V 2.0 150cc', 45000, 'Delhi', 23000, 'First Owner', 6, 150, 'Yamaha', 25)\n",
      "('Bajaj Pulsar NS200', 78000, 'Bangalore', 9900, 'First Owner', 4, 200, 'Bajaj', 26)\n",
      "('Hero Super Splendor 125cc', 20000, 'Ahmedabad', 29305, 'First Owner', 16, 125, 'Hero', 27)\n",
      "('Honda CBF Stunner 125cc', 20800, 'Faridabad', 30500, 'Second Owner', 7, 125, 'Honda', 28)\n",
      "('Bajaj Pulsar 150cc', 50000, 'Bangalore', 19000, 'First Owner', 8, 150, 'Bajaj', 29)\n",
      "('Honda X-Blade 160CC ABS', 81200, 'Mettur', 9100, 'First Owner', 2, 160, 'Honda', 30)\n",
      "('Bajaj Pulsar NS200', 88000, 'Hyderabad', 21914, 'First Owner', 3, 200, 'Bajaj', 31)\n",
      "('Yamaha YZF-R15 2.0 150cc', 80000, 'Kaithal', 20000, 'Second Owner', 4, 150, 'Yamaha', 32)\n",
      "('Bajaj Avenger 220cc', 40900, 'Gurgaon', 15000, 'First Owner', 6, 220, 'Bajaj', 33)\n",
      "('KTM RC 390cc', 180000, 'Pune', 17700, 'First Owner', 4, 390, 'KTM', 34)\n",
      "('Honda CB Unicorn 150cc', 40000, 'Noida', 30000, 'First Owner', 8, 150, 'Honda', 35)\n",
      "('KTM Duke 200cc', 70000, 'Nashik', 100000, 'Second Owner', 8, 200, 'KTM', 36)\n",
      "('Royal Enfield Classic 350cc', 98800, 'Kochi', 39000, 'First Owner', 5, 350, 'Royal Enfield', 37)\n",
      "('Honda CBR 150R 150cc', 65000, 'Allahabad', 43000, 'First Owner', 6, 150, 'Honda', 38)\n",
      "('Royal Enfield Thunderbird X 500cc', 190500, 'Samastipur', 4550, 'First Owner', 2, 500, 'Royal Enfield', 39)\n",
      "('KTM RC 200cc ABS', 179000, 'Bangalore', 3400, 'First Owner', 2, 200, 'KTM', 40)\n",
      "('Royal Enfield Thunderbird 350cc', 70000, 'Nadiad', 45000, 'First Owner', 8, 350, 'Royal Enfield', 41)\n",
      "('Bajaj Avenger 220cc', 45000, 'Hyderabad', 36100, 'First Owner', 6, 220, 'Bajaj', 42)\n",
      "('Royal Enfield Bullet Electra 350cc', 78000, 'Lucknow', 8500, 'First Owner', 13, 350, 'Royal Enfield', 43)\n",
      "('Bajaj Avenger Street 220 ABS', 110000, 'Bangalore', 2550, 'First Owner', 2, 220, 'Bajaj', 44)\n",
      "('Royal Enfield Classic 350cc', 85000, 'Delhi', 18000, 'First Owner', 6, 350, 'Royal Enfield', 45)\n",
      "('Bajaj Pulsar NS200', 38000, 'Delhi', 35000, 'First Owner', 9, 200, 'Bajaj', 46)\n",
      "('Royal Enfield Thunderbird 350cc', 55346, 'Noida', 38000, 'First Owner', 10, 350, 'Royal Enfield', 47)\n",
      "('Mahindra Centuro NXT 110cc', 28000, 'Jaipur', 45000, 'First Owner', 2, 110, 'Mahindra', 48)\n",
      "('Hero Hunk 150cc', 37000, 'Mumbai', 10800, 'First Owner', 8, 150, 'Hero', 49)\n",
      "('Suzuki Gixxer SF Fi 150cc SP ABS', 97000, 'Delhi', 4400, 'First Owner', 3, 150, 'Suzuki', 50)\n",
      "('Yamaha FZ 150cc', 40000, 'Karnal', 357000, 'First Owner', 8, 150, 'Yamaha', 51)\n",
      "('Royal Enfield\\u200e Bullet 350cc', 90000, 'Delhi', 15300, 'First Owner', 7, 350, 'Royal Enfield', 52)\n",
      "('TVS Apache RTR 160cc', 60000, 'Mumbai', 30000, 'First Owner', 5, 160, 'TVS', 53)\n",
      "('Honda CB Shine 125cc', 21900, 'Gorakhpur', 30000, 'Second Owner', 7, 125, 'Honda', 54)\n",
      "('Bajaj Avenger 220cc', 40000, 'Ahmedabad', 64000, 'First Owner', 7, 220, 'Bajaj', 55)\n",
      "('Benelli TNT 600i ABS', 475000, 'Mumbai', 11500, 'Second Owner', 3, 600, 'Benelli', 56)\n",
      "('Honda Dream Yuga 110cc', 34500, 'Ahmedabad', 17056, 'First Owner', 5, 110, 'Honda', 57)\n",
      "('Yamaha SZ 150cc', 25000, 'Vidisha', 172082, 'First Owner', 9, 150, 'Yamaha', 58)\n",
      "('Suzuki Gixxer 150cc', 30200, 'Bangalore', 45000, 'First Owner', 7, 150, 'Suzuki', 59)\n",
      "('Bajaj Avenger Cruise 220', 65000, 'Hosur', 35000, 'First Owner', 5, 220, 'Bajaj', 60)\n",
      "('Bajaj Pulsar 150cc', 25000, 'Mumbai', 38000, 'First Owner', 9, 150, 'Bajaj', 61)\n",
      "('Kawasaki Z900', 935000, 'Bagalkot', 2500, 'First Owner', 2, 900, 'Kawasaki', 62)\n",
      "('Royal Enfield Bullet Electra 350cc', 107100, 'Delhi', 15438, 'Second Owner', 3, 350, 'Royal Enfield', 63)\n",
      "('Bajaj Pulsar 220cc', 80000, 'Delhi', 6000, 'First Owner', 3, 220, 'Bajaj', 64)\n",
      "('Royal Enfield Thunderbird 350cc', 88000, 'Delhi', 19000, 'First Owner', 5, 350, 'Royal Enfield', 65)\n",
      "('KTM Duke 200cc', 94700, 'Baripara', 32700, 'First Owner', 4, 200, 'KTM', 66)\n",
      "('Hero CD Deluxe 100cc', 12200, 'Agra', 46643, 'First Owner', 14, 100, 'Hero', 67)\n",
      "('Royal Enfield Classic 350cc', 106000, 'Delhi', 19000, 'First Owner', 6, 350, 'Royal Enfield', 68)\n",
      "('Bajaj Pulsar 220cc', 29500, 'Hyderabad', 40700, 'First Owner', 12, 220, 'Bajaj', 69)\n",
      "('Kawasaki Ninja 650cc', 290000, 'Dharwad', 11350, 'First Owner', 7, 650, 'Kawasaki', 70)\n",
      "('Royal Enfield Thunderbird 350cc', 110000, 'Delhi', 1600, 'First Owner', 6, 350, 'Royal Enfield', 71)\n",
      "('Bajaj Platina 125cc', 27000, 'Vadodara', 44410, 'First Owner', 10, 125, 'Bajaj', 72)\n",
      "('Royal Enfield Thunderbird 350cc', 65000, 'Jalandhar', 9800, 'First Owner', 11, 350, 'Royal Enfield', 73)\n",
      "('Royal Enfield Thunderbird X 350cc', 150000, 'Bangalore', 15000, 'First Owner', 3, 350, 'Royal Enfield', 74)\n",
      "('Hero Karizma ZMR 223cc', 55786, 'Surat', 68000, 'Second Owner', 7, 223, 'Hero', 75)\n",
      "('Bajaj Pulsar 180cc', 45000, 'Bangalore', 17757, 'First Owner', 8, 180, 'Bajaj', 76)\n",
      "('Yamaha FZ25 ABS 250cc', 146000, 'Chennai', 3900, 'First Owner', 2, 250, 'Yamaha', 77)\n",
      "('Royal Enfield Thunderbird 350cc', 115000, 'Bangalore', 23700, 'First Owner', 4, 350, 'Royal Enfield', 78)\n",
      "('Bajaj CT 100 100cc', 30000, 'Noida', 8250, 'First Owner', 3, 100, 'Bajaj', 79)\n",
      "('Bajaj Pulsar RS200 ABS', 93100, 'Mumbai', 10000, 'First Owner', 5, 200, 'Bajaj', 80)\n",
      "('Yamaha YZF-R15 2.0 150cc', 82000, 'Mumbai', 4300, 'Second Owner', 3, 150, 'Yamaha', 81)\n",
      "('Royal Enfield Interceptor 650cc', 260000, 'Navi Mumbai', 3800, 'First Owner', 2, 650, 'Royal Enfield', 82)\n",
      "('Honda CB Shine 125cc', 38000, 'Bangalore', 33000, 'First Owner', 7, 125, 'Honda', 83)\n",
      "('KTM Duke 250cc', 130000, 'Gandhidham', 17500, 'Second Owner', 4, 250, 'KTM', 84)\n",
      "('Royal Enfield Himalayan 410cc', 118000, 'Gurgaon', 19000, 'First Owner', 4, 410, 'Royal Enfield', 85)\n",
      "('Bajaj Pulsar 135LS', 14700, 'Delhi', 10000, 'First Owner', 11, 135, 'Bajaj', 86)\n",
      "('Royal Enfield Thunderbird 350cc', 85000, 'Chennai', 54000, 'First Owner', 6, 350, 'Royal Enfield', 87)\n",
      "('Bajaj Pulsar 220F', 40000, 'Mumbai', 27000, 'First Owner', 7, 220, 'Bajaj', 88)\n",
      "('Yamaha FZ16 150cc', 50000, 'Bangalore', 19000, 'First Owner', 6, 150, 'Yamaha', 89)\n",
      "('Royal Enfield Thunderbird 350cc', 71800, 'Mumbai', 43500, 'First Owner', 7, 350, 'Royal Enfield', 90)\n",
      "('Royal Enfield Thunderbird 350cc', 71800, 'Mumbai', 43500, 'First Owner', 7, 350, 'Royal Enfield', 91)\n",
      "('Bajaj Pulsar NS200', 75000, 'Bangalore', 11575, 'First Owner', 4, 200, 'Bajaj', 92)\n",
      "('Ducati Scrambler 1100 Special', 1350000, 'Mumbai', 190, 'First Owner', 1, 1100, 'Ducati', 93)\n",
      "('Triumph Street Triple 765', 790000, 'Mumbai', 19000, 'First Owner', 3, 765, 'Triumph', 94)\n",
      "('Bajaj V15 150cc', 47000, 'Bangalore', 8600, 'First Owner', 4, 150, 'Bajaj', 95)\n",
      "('Bajaj Pulsar 150cc', 60000, 'Pune', 2000, 'First Owner', 2, 150, 'Bajaj', 96)\n",
      "('Suzuki Gixxer Fi 150cc ABS', 96700, 'Vadodara', 5100, 'First Owner', 1, 150, 'Suzuki', 97)\n",
      "('Hero Splendor plus 100cc', 31900, 'Delhi', 9000, 'First Owner', 5, 100, 'Hero', 98)\n",
      "('Bajaj Pulsar 150cc', 35000, 'Visakhapatnam', 44480, 'First Owner', 13, 150, 'Bajaj', 99)\n",
      "('KTM Duke 390cc', 240000, 'Bangalore', 11000, 'First Owner', 3, 390, 'KTM', 100)\n",
      "('Honda CBR 250R', 68000, 'Delhi', 16000, 'First Owner', 7, 250, 'Honda', 101)\n",
      "('Bajaj Pulsar RS200', 80000, 'Bangalore', 26691, 'First Owner', 5, 200, 'Bajaj', 102)\n",
      "('Royal Enfield Classic 350cc', 135000, 'Bangalore', 45000, 'First Owner', 5, 350, 'Royal Enfield', 103)\n",
      "('Bajaj Pulsar 150cc', 11100, 'Pune', 12000, 'Third Owner', 12, 150, 'Bajaj', 104)\n",
      "('Benelli TNT 600i', 480000, 'Mumbai', 14200, 'First Owner', 4, 600, 'Benelli', 105)\n",
      "('Suzuki Gixxer 150cc SP Rear Disc', 65000, 'Thrissur', 41000, 'First Owner', 3, 150, 'Suzuki', 106)\n",
      "('Yamaha FZ S V 2.0 150cc', 60000, 'Bangalore', 15000, 'First Owner', 5, 150, 'Yamaha', 107)\n",
      "('Honda CBR 150R 150cc', 80000, 'Bangalore', 12314, 'First Owner', 4, 150, 'Honda', 108)\n",
      "('Hero Splendor Plus Self Alloy 100cc', 46000, 'Delhi', 11760, 'First Owner', 3, 100, 'Hero', 109)\n",
      "('Royal Enfield Classic 500cc', 95000, 'Bangalore', 22000, 'First Owner', 11, 500, 'Royal Enfield', 110)\n",
      "('Hyosung GT650R', 400000, 'Delhi', 1800, 'First Owner', 4, 650, 'Hyosung', 111)\n",
      "('Bajaj V15 150cc', 55000, 'Bangalore', 4400, 'First Owner', 4, 150, 'Bajaj', 112)\n",
      "('Yamaha YZF-R15 S 150cc', 63000, 'Delhi', 16000, 'First Owner', 5, 150, 'Yamaha', 113)\n",
      "('Bajaj V15 150cc', 51000, 'Faridabad', 9000, 'First Owner', 4, 150, 'Bajaj', 114)\n",
      "('TVS Apache RTR 160 4V Disc', 69900, 'Delhi', 8700, 'First Owner', 3, 160, 'TVS', 115)\n",
      "('Bajaj Pulsar RS200 ABS', 125000, 'Gorakhpur', 1342, 'First Owner', 4, 200, 'Bajaj', 116)\n",
      "('Benelli TNT 300', 210000, 'Kolkata', 21000, 'First Owner', 6, 300, 'Benelli', 117)\n",
      "('Honda CB ShineSP 125cc', 35900, 'Delhi', 19000, 'First Owner', 5, 125, 'Honda', 118)\n",
      "('Honda CBR 250R', 67000, 'Delhi', 13000, 'First Owner', 9, 250, 'Honda', 119)\n",
      "('Hero Passion Pro 100cc', 29339, 'Ernakulam', 12771, 'First Owner', 4, 100, 'Hero', 120)\n",
      "('Hero Splendor Plus 100cc', 19695, 'Ernakulam', 51576, 'First Owner', 6, 100, 'Hero', 121)\n",
      "('Hero Splendor iSmart Plus IBS 110cc', 48672, 'Ernakulam', 608, 'First Owner', 2, 110, 'Hero', 122)\n",
      "('Honda CBR 150R 150cc', 40000, 'Mumbai', 13680, 'First Owner', 9, 150, 'Honda', 123)\n",
      "('Yamaha YZF R6 600cc', 500000, 'Bangalore', 285, 'First Owner', 5, 600, 'Yamaha', 124)\n",
      "('Ducati 1299 Superleggera', 800000, 'Mumbai', 3, 'First Owner', 3, 1299, 'Ducati', 125)\n",
      "('Royal Enfield Himalayan 410cc', 110000, 'Bangalore', 24676, 'First Owner', 5, 410, 'Royal Enfield', 126)\n",
      "('Royal Enfield Classic 350cc', 92500, 'Delhi', 11000, 'First Owner', 6, 350, 'Royal Enfield', 127)\n",
      "('Bajaj Pulsar NS200', 57000, 'Bangalore', 28948, 'First Owner', 5, 200, 'Bajaj', 128)\n",
      "('Royal Enfield Electra 350cc', 72500, 'Delhi', 10000, 'First Owner', 10, 350, 'Royal Enfield', 129)\n",
      "('KTM Duke 200cc', 68000, 'Delhi', 16000, 'First Owner', 9, 200, 'KTM', 130)\n",
      "('TVS Phoenix Disc 125cc', 21500, 'Barasat', 10500, 'First Owner', 5, 125, 'TVS', 131)\n",
      "('TVS Apache RTR 160cc', 40000, 'Delhi', 20000, 'First Owner', 6, 160, 'TVS', 132)\n",
      "('Royal Enfield Classic 350cc', 91000, 'Delhi', 18000, 'First Owner', 5, 350, 'Royal Enfield', 133)\n",
      "('Harley-Davidson Street 750', 300000, 'Ghaziabad', 3500, 'First Owner', 6, 750, 'Harley-Davidson', 134)\n",
      "('Suzuki Gixxer SF 150cc', 47000, 'Jaipur', 70000, 'First Owner', 6, 150, 'Suzuki', 135)\n",
      "('Suzuki Gixxer 150cc', 53000, 'Bangalore', 18158, 'First Owner', 6, 150, 'Suzuki', 136)\n",
      "('Suzuki Gixxer 150cc', 51000, 'Bangalore', 39140, 'First Owner', 5, 150, 'Suzuki', 137)\n",
      "('Bajaj Pulsar 220F', 48000, 'Bangalore', 27776, 'First Owner', 8, 220, 'Bajaj', 138)\n",
      "('Bajaj Pulsar 220cc', 55000, 'Bangalore', 32734, 'First Owner', 6, 220, 'Bajaj', 139)\n",
      "('Royal Enfield Himalayan 410cc Fi ABS', 173300, 'Vadodara', 14000, 'First Owner', 2, 410, 'Royal Enfield', 140)\n",
      "('Royal Enfield Bullet Electra 350cc', 77000, 'Delhi', 13000, 'First Owner', 8, 350, 'Royal Enfield', 141)\n",
      "('Bajaj Pulsar NS200', 115000, 'Bangalore', 5000, 'First Owner', 2, 200, 'Bajaj', 142)\n",
      "('Bajaj Discover 150cc', 36000, 'Hyderabad', 39500, 'First Owner', 7, 150, 'Bajaj', 143)\n",
      "('Bajaj Avenger Street 220', 72000, 'Hyderabad', 29500, 'First Owner', 4, 220, 'Bajaj', 144)\n",
      "('Royal Enfield Standard 350cc', 115000, 'Hyderabad', 14900, 'First Owner', 3, 350, 'Royal Enfield', 145)\n",
      "('Honda CB Shine 125cc Disc', 65000, 'Mumbai', 2000, 'First Owner', 3, 125, 'Honda', 146)\n",
      "('Honda CB Unicorn ABS 150cc', 99000, 'Mumbai', 4000, 'First Owner', 2, 150, 'Honda', 147)\n",
      "('Yamaha YZF-R15 2.0 150cc', 68500, 'Delhi', 68500, 'Second Owner', 7, 150, 'Yamaha', 148)\n",
      "('Yamaha YZF-R15 V3 150cc', 140000, 'Delhi', 2473, 'First Owner', 2, 150, 'Yamaha', 149)\n"
     ]
    }
   ],
   "source": [
    "# showing the indexed data\n",
    "cursor.execute(f\"SELECT * FROM {table_name};\")\n",
    "rows = cursor.fetchall()\n",
    "for row in rows:\n",
    "    print(row)"
   ]
  },
  {
   "cell_type": "code",
   "execution_count": null,
   "id": "7b275ce8",
   "metadata": {},
   "outputs": [],
   "source": []
  }
 ],
 "metadata": {
  "kernelspec": {
   "display_name": "Python 3 (ipykernel)",
   "language": "python",
   "name": "python3"
  },
  "language_info": {
   "codemirror_mode": {
    "name": "ipython",
    "version": 3
   },
   "file_extension": ".py",
   "mimetype": "text/x-python",
   "name": "python",
   "nbconvert_exporter": "python",
   "pygments_lexer": "ipython3",
   "version": "3.9.13"
  }
 },
 "nbformat": 4,
 "nbformat_minor": 5
}
