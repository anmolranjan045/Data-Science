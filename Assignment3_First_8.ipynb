{
 "cells": [
  {
   "cell_type": "code",
   "execution_count": 1,
   "id": "361611f2-76a2-4c5c-a1a9-7279d9895627",
   "metadata": {},
   "outputs": [
    {
     "name": "stdout",
     "output_type": "stream",
     "text": [
      "   Year  MSHA ID                       Mine_Name  Production  Labor_Hours  \\\n",
      "0  2013   103381            Tacoa Highwall Miner       56004        22392   \n",
      "1  2013   103404                Reid School Mine       28807        28447   \n",
      "2  2013   100759  North River #1 Underground Min     1440115       474784   \n",
      "3  2013   103246                      Bear Creek       87587        29193   \n",
      "4  2013   103451                     Knight Mine      147499        46393   \n",
      "\n",
      "   New_Col  \n",
      "0      NaN  \n",
      "1      NaN  \n",
      "2      NaN  \n",
      "3      NaN  \n",
      "4      NaN  \n",
      "      Year   MSHA ID                                          Mine_Name  \\\n",
      "46    2013    103321                                     Poplar Springs   \n",
      "47    2013    103358                                          Old Union   \n",
      "48    2013   5000030                                           Usibelli   \n",
      "49    2013    201195                                       Kayenta Mine   \n",
      "50  100650  11558442  Tacoa Highwall MinerReid School MineNorth Rive...   \n",
      "\n",
      "    Production  Labor_Hours  New_Col  \n",
      "46      189370        76366      NaN  \n",
      "47      284563       161805      NaN  \n",
      "48     1631584       286079      NaN  \n",
      "49     7602722      1015333      NaN  \n",
      "50    27854323     11098816      0.0  \n",
      "Anmol Ranjan | 102069014\n"
     ]
    }
   ],
   "source": [
    "import pandas as pd\n",
    "file_path = 'DA.xlsx'\n",
    "df = pd.read_excel(file_path)\n",
    "# Display the first five rows of the DataFrame.\n",
    "print(df.head())\n",
    "\n",
    "# Display the last five rows of the DataFrame.\n",
    "print(df.tail())\n",
    "print(\"Anmol Ranjan | 102069014\")"
   ]
  },
  {
   "cell_type": "code",
   "execution_count": 2,
   "id": "d2496587-98ac-4dcc-b0e9-5c77b70d1f99",
   "metadata": {},
   "outputs": [
    {
     "name": "stdout",
     "output_type": "stream",
     "text": [
      "Year             int64\n",
      "MSHA ID          int64\n",
      "Mine_Name       object\n",
      "Production       int64\n",
      "Labor_Hours      int64\n",
      "New_Col        float64\n",
      "dtype: object\n",
      "Anmol Ranjan | 102069014\n"
     ]
    }
   ],
   "source": [
    "data_types = df.dtypes\n",
    "print(data_types)\n",
    "print(\"Anmol Ranjan | 102069014\")"
   ]
  },
  {
   "cell_type": "code",
   "execution_count": 3,
   "id": "13104599-4fe4-4e09-8c29-83008b50a04f",
   "metadata": {},
   "outputs": [
    {
     "name": "stdout",
     "output_type": "stream",
     "text": [
      "   MSHA ID  Labor_Hours\n",
      "0   103381        22392\n",
      "1   103404        28447\n",
      "2   100759       474784\n",
      "3   103246        29193\n",
      "4   103451        46393\n",
      "Anmol Ranjan | 102069014\n"
     ]
    }
   ],
   "source": [
    "columns_to_read = ['MSHA ID', 'Labor_Hours']\n",
    "df = pd.read_excel('DA.xlsx', usecols=columns_to_read)\n",
    "print(df.head())\n",
    "print(\"Anmol Ranjan | 102069014\")"
   ]
  },
  {
   "cell_type": "code",
   "execution_count": 4,
   "id": "a7850a12-9c6a-4322-a918-bae8d627ba28",
   "metadata": {},
   "outputs": [
    {
     "name": "stdout",
     "output_type": "stream",
     "text": [
      "Sum: 55708646\n",
      "Mean: 1092326.3921568627\n",
      "Max: 27854323\n",
      "Min: 0\n",
      "Anmol Ranjan | 102069014\n"
     ]
    }
   ],
   "source": [
    "df = pd.read_excel('DA.xlsx')\n",
    "sum_value = df['Production'].sum()\n",
    "mean_value = df['Production'].mean()\n",
    "max_value = df['Production'].max()\n",
    "min_value = df['Production'].min()\n",
    "print(f\"Sum: {sum_value}\")\n",
    "print(f\"Mean: {mean_value}\")\n",
    "print(f\"Max: {max_value}\")\n",
    "print(f\"Min: {min_value}\")\n",
    "print(\"Anmol Ranjan | 102069014\")"
   ]
  },
  {
   "cell_type": "code",
   "execution_count": 6,
   "id": "760277ce-aa3a-4b4f-9278-50763421dbb7",
   "metadata": {},
   "outputs": [
    {
     "name": "stdout",
     "output_type": "stream",
     "text": [
      "   Year  MSHA ID                       Mine_Name  Production  Labor_Hours  \\\n",
      "0  2013   103381            Tacoa Highwall Miner       56004        22392   \n",
      "1  2013   103404                Reid School Mine       28807        28447   \n",
      "2  2013   100759  North River #1 Underground Min     1440115       474784   \n",
      "3  2013   103246                      Bear Creek       87587        29193   \n",
      "4  2013   103451                     Knight Mine      147499        46393   \n",
      "\n",
      "  Another_Col  New_Col  \n",
      "0        <NA>      NaN  \n",
      "1        <NA>      NaN  \n",
      "2        <NA>      NaN  \n",
      "3        <NA>      NaN  \n",
      "4        <NA>      NaN  \n",
      "Anmol Ranjan | 102069014\n"
     ]
    }
   ],
   "source": [
    "df = pd.read_excel('DA.xlsx')\n",
    "df.insert(5, 'Another_Col', value=pd.NA)\n",
    "df.to_excel(file_path, index=False)\n",
    "print(df.head())\n",
    "print(\"Anmol Ranjan | 102069014\")"
   ]
  },
  {
   "cell_type": "code",
   "execution_count": 7,
   "id": "d18ee95c-7806-4a19-bc04-94363a0dc865",
   "metadata": {},
   "outputs": [
    {
     "name": "stdout",
     "output_type": "stream",
     "text": [
      "      Year   MSHA ID                                          Mine_Name  \\\n",
      "0     2013    103380                                             Calera   \n",
      "1     2013    103380                                             Calera   \n",
      "2     2013    103422                                    Clark No 1 Mine   \n",
      "3     2013    103467                                Helena Surface Mine   \n",
      "4     2013    101247                                          No 4 Mine   \n",
      "5     2013    101401                                          No 7 Mine   \n",
      "6     2013    103172                     Searles Mine No. 2, 3, 4, 5, 6   \n",
      "7     2013    103179                                Fleetwood Mine No 1   \n",
      "8     2013    103303                                       Shannon Mine   \n",
      "9     2013    103323                                      Deerlick Mine   \n",
      "10    2013    103364                              Brc Alabama No. 7 Llc   \n",
      "11    2013    103436                                   Swann's Crossing   \n",
      "12    2013    100347                                       Choctaw Mine   \n",
      "13    2013    101362                                    Manchester Mine   \n",
      "14    2013    102996                                     Jap Creek Mine   \n",
      "15    2013    103155                                 Corinth Prep Plant   \n",
      "16    2013    103155                                 Corinth Prep Plant   \n",
      "17    2013    103195                        Mccollum/Sparks Branch Mine   \n",
      "18    2013    103342                                Reese's Branch Mine   \n",
      "19    2013    103370                                Cresent Valley Mine   \n",
      "20    2013    103372                                    Cane Creek Mine   \n",
      "21    2013    103376                                         Town Creek   \n",
      "22    2013    103389                                   Carbon Hill Mine   \n",
      "23    2013    103410                                   Coal Valley Mine   \n",
      "24    2013    103423                                   Dutton Hill Mine   \n",
      "25    2013   1519322                                            Ghm #25   \n",
      "26    2013    103321                                     Poplar Springs   \n",
      "27    2013    103358                                          Old Union   \n",
      "28    2013   5000030                                           Usibelli   \n",
      "29    2013    201195                                       Kayenta Mine   \n",
      "30  100650  11558442  Tacoa Highwall MinerReid School MineNorth Rive...   \n",
      "\n",
      "    Production  Labor_Hours  Another_Col  New_Col  \n",
      "0            0        12621          NaN      NaN  \n",
      "1            0         1402          NaN      NaN  \n",
      "2       122727       140250          NaN      NaN  \n",
      "3        59664        30539          NaN      NaN  \n",
      "4      2622528      1551141          NaN      NaN  \n",
      "5      5405412      2464719          NaN      NaN  \n",
      "6       258078       119542          NaN      NaN  \n",
      "7        75937        63745          NaN      NaN  \n",
      "8       317491       164388          NaN      NaN  \n",
      "9       133452        46381          NaN      NaN  \n",
      "10           0        14324          NaN      NaN  \n",
      "11      137511        77190          NaN      NaN  \n",
      "12      537429       215295          NaN      NaN  \n",
      "13      219457       116914          NaN      NaN  \n",
      "14      375715       164093          NaN      NaN  \n",
      "15           0        27996          NaN      NaN  \n",
      "16           0        51994          NaN      NaN  \n",
      "17       71910        17411          NaN      NaN  \n",
      "18      263888       115123          NaN      NaN  \n",
      "19        2860          621          NaN      NaN  \n",
      "20       66258        32401          NaN      NaN  \n",
      "21      299167       176499          NaN      NaN  \n",
      "22       76241        84966          NaN      NaN  \n",
      "23      407841       158591          NaN      NaN  \n",
      "24       37275         9162          NaN      NaN  \n",
      "25       25054         3108          NaN      NaN  \n",
      "26      189370        76366          NaN      NaN  \n",
      "27      284563       161805          NaN      NaN  \n",
      "28     1631584       286079          NaN      NaN  \n",
      "29     7602722      1015333          NaN      NaN  \n",
      "30    27854323     11098816          NaN      0.0  \n",
      "Anmol Ranjan | 102069014\n"
     ]
    }
   ],
   "source": [
    "df = pd.read_excel('DA.xlsx', skiprows=range(1,21))\n",
    "print(df.head(50))\n",
    "print(\"Anmol Ranjan | 102069014\")"
   ]
  },
  {
   "cell_type": "code",
   "execution_count": 8,
   "id": "d23075da-861f-497a-a299-a2b32267f2df",
   "metadata": {},
   "outputs": [
    {
     "name": "stdout",
     "output_type": "stream",
     "text": [
      "      Year   MSHA ID                                          Mine_Name  \\\n",
      "47    2013    103358                                          Old Union   \n",
      "48    2013   5000030                                           Usibelli   \n",
      "49    2013    201195                                       Kayenta Mine   \n",
      "50  100650  11558442  Tacoa Highwall MinerReid School MineNorth Rive...   \n",
      "51  201300  23116884  Tacoa Highwall MinerReid School MineNorth Rive...   \n",
      "\n",
      "   Production Labor_Hours Another_Col New_Col  \n",
      "47     284563      161805         NaN     NaN  \n",
      "48    1631584      286079         NaN     NaN  \n",
      "49    7602722     1015333         NaN     NaN  \n",
      "50   27854323    11098816         NaN     0.0  \n",
      "51   55708646    22197632         0.0     0.0  \n",
      "Anmol Ranjan | 102069014\n"
     ]
    }
   ],
   "source": [
    "df = pd.read_excel('DA.xlsx')\n",
    "sum_row = df.sum().to_frame().T\n",
    "df = pd.concat([df, sum_row], ignore_index=True)\n",
    "df.to_excel(file_path, index=False)\n",
    "print(df.tail())\n",
    "print(\"Anmol Ranjan | 102069014\")"
   ]
  },
  {
   "cell_type": "code",
   "execution_count": null,
   "id": "2444cced",
   "metadata": {},
   "outputs": [],
   "source": []
  }
 ],
 "metadata": {
  "kernelspec": {
   "display_name": "Python 3 (ipykernel)",
   "language": "python",
   "name": "python3"
  },
  "language_info": {
   "codemirror_mode": {
    "name": "ipython",
    "version": 3
   },
   "file_extension": ".py",
   "mimetype": "text/x-python",
   "name": "python",
   "nbconvert_exporter": "python",
   "pygments_lexer": "ipython3",
   "version": "3.9.13"
  }
 },
 "nbformat": 4,
 "nbformat_minor": 5
}
